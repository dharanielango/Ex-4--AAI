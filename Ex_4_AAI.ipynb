{
  "nbformat": 4,
  "nbformat_minor": 0,
  "metadata": {
    "colab": {
      "provenance": []
    },
    "kernelspec": {
      "name": "python3",
      "display_name": "Python 3"
    },
    "language_info": {
      "name": "python"
    }
  },
  "cells": [
    {
      "cell_type": "code",
      "execution_count": 1,
      "metadata": {
        "id": "bGJ7QeKJ1qHm"
      },
      "outputs": [],
      "source": [
        "import numpy as np"
      ]
    },
    {
      "cell_type": "code",
      "source": [
        "transition_matrix = np.array([[0.7,0.3],[0.4,0.6]])\n",
        "emission_matrix = np.array([[0.1,0.9],[0.8,0.2]])\n",
        "initial_probabilities=np.array([0.5,0.5])\n",
        "observed_sequence= np.array([1,1,1,0,0,1])\n",
        "\n",
        "alpha =np.zeros((len(observed_sequence),len(initial_probabilities)))\n",
        "alpha[0,:] = initial_probabilities*emission_matrix[:,observed_sequence[0]]\n",
        "for t in range(1,len(observed_sequence)):\n",
        "  for j in range(len(initial_probabilities)):\n",
        "    alpha[t,j] = emission_matrix[j,observed_sequence[t]]*np.sum(alpha[t-1,:]*transition_matrix[:,j])\n",
        "\n",
        "probability=np.sum(alpha[-1,:])\n",
        "print(\"The probability of the observed sequence is:\", probability)\n",
        "\n",
        "most_likely_sequence=[]\n",
        "for t in range(len(observed_sequence)):\n",
        "  if alpha[t,0]> alpha[t,1]:\n",
        "    most_likely_sequence.append(\"sunny\")\n",
        "  else :\n",
        "    most_likely_sequence.append(\"rainy\")\n",
        "\n",
        "print(\"The most likely sequence of weather state is:\", most_likely_sequence)\n"
      ],
      "metadata": {
        "colab": {
          "base_uri": "https://localhost:8080/"
        },
        "id": "dazfoESW1yW7",
        "outputId": "6c528460-763d-47bb-ed2c-f076b464942d"
      },
      "execution_count": 2,
      "outputs": [
        {
          "output_type": "stream",
          "name": "stdout",
          "text": [
            "The probability of the observed sequence is: 0.018906881625\n",
            "The most likely sequence of weather state is: ['sunny', 'sunny', 'sunny', 'rainy', 'rainy', 'sunny']\n"
          ]
        }
      ]
    }
  ]
}